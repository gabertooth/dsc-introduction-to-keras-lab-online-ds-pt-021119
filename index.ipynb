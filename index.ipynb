{
 "cells": [
  {
   "cell_type": "markdown",
   "metadata": {},
   "source": [
    "# Keras - Lab\n",
    "\n",
    "## Introduction\n",
    "\n",
    "In this lab you'll once again build a neural network but this time with much less production time since we will be using Keras to do a lot of the heavy lifting building blocks which we coded from hand previously.  Our use case will be classifying Bank complaints.\n",
    "\n",
    "\n",
    "## Objectives\n",
    "\n",
    "You will be able to:\n",
    "* Build a neural network using Keras"
   ]
  },
  {
   "cell_type": "markdown",
   "metadata": {},
   "source": [
    "## Loading Required Packages\n",
    "\n",
    "Here we'll import all of the various packages that we'll use in this code along. We'll point out where these imports were used as they come up in the lab."
   ]
  },
  {
   "cell_type": "code",
   "execution_count": 1,
   "metadata": {},
   "outputs": [
    {
     "name": "stderr",
     "output_type": "stream",
     "text": [
      "Using TensorFlow backend.\n"
     ]
    }
   ],
   "source": [
    "import matplotlib.pyplot as plt\n",
    "import pandas as pd\n",
    "import numpy as np\n",
    "import random\n",
    "from sklearn.model_selection import train_test_split\n",
    "from keras.utils.np_utils import to_categorical\n",
    "from sklearn import preprocessing\n",
    "from keras.preprocessing.text import Tokenizer\n",
    "from keras import models\n",
    "from keras import layers\n",
    "from keras import optimizers"
   ]
  },
  {
   "cell_type": "markdown",
   "metadata": {},
   "source": [
    "## Loading the data\n",
    "\n",
    "As usual, we will start our data science process by importing the data itself.  \n",
    "Load and preview as a pandas dataframe.   \n",
    "The data is stored in a file **Bank_complaints.csv**."
   ]
  },
  {
   "cell_type": "code",
   "execution_count": 2,
   "metadata": {},
   "outputs": [],
   "source": [
    "df=pd.read_csv('Bank_complaints.csv')\n",
    "#Your code here\n",
    "#import pandas as pd #As reference; already imported above"
   ]
  },
  {
   "cell_type": "markdown",
   "metadata": {},
   "source": [
    "## Further Preview of the Categories\n",
    "\n",
    "As we said, our task here is to categorize banking complaints into various predefined categories. Preview what these categories are and what percent of the complaints each accounts for."
   ]
  },
  {
   "cell_type": "code",
   "execution_count": 3,
   "metadata": {},
   "outputs": [
    {
     "data": {
      "text/html": [
       "<div>\n",
       "<style scoped>\n",
       "    .dataframe tbody tr th:only-of-type {\n",
       "        vertical-align: middle;\n",
       "    }\n",
       "\n",
       "    .dataframe tbody tr th {\n",
       "        vertical-align: top;\n",
       "    }\n",
       "\n",
       "    .dataframe thead th {\n",
       "        text-align: right;\n",
       "    }\n",
       "</style>\n",
       "<table border=\"1\" class=\"dataframe\">\n",
       "  <thead>\n",
       "    <tr style=\"text-align: right;\">\n",
       "      <th></th>\n",
       "      <th>Product</th>\n",
       "      <th>Consumer complaint narrative</th>\n",
       "    </tr>\n",
       "  </thead>\n",
       "  <tbody>\n",
       "    <tr>\n",
       "      <th>0</th>\n",
       "      <td>Student loan</td>\n",
       "      <td>In XX/XX/XXXX I filled out the Fedlaon applica...</td>\n",
       "    </tr>\n",
       "    <tr>\n",
       "      <th>1</th>\n",
       "      <td>Student loan</td>\n",
       "      <td>I am being contacted by a debt collector for p...</td>\n",
       "    </tr>\n",
       "    <tr>\n",
       "      <th>2</th>\n",
       "      <td>Student loan</td>\n",
       "      <td>I cosigned XXXX student loans at SallieMae for...</td>\n",
       "    </tr>\n",
       "    <tr>\n",
       "      <th>3</th>\n",
       "      <td>Student loan</td>\n",
       "      <td>Navient has sytematically and illegally failed...</td>\n",
       "    </tr>\n",
       "    <tr>\n",
       "      <th>4</th>\n",
       "      <td>Student loan</td>\n",
       "      <td>My wife became eligible for XXXX Loan Forgiven...</td>\n",
       "    </tr>\n",
       "  </tbody>\n",
       "</table>\n",
       "</div>"
      ],
      "text/plain": [
       "        Product                       Consumer complaint narrative\n",
       "0  Student loan  In XX/XX/XXXX I filled out the Fedlaon applica...\n",
       "1  Student loan  I am being contacted by a debt collector for p...\n",
       "2  Student loan  I cosigned XXXX student loans at SallieMae for...\n",
       "3  Student loan  Navient has sytematically and illegally failed...\n",
       "4  Student loan  My wife became eligible for XXXX Loan Forgiven..."
      ]
     },
     "execution_count": 3,
     "metadata": {},
     "output_type": "execute_result"
    }
   ],
   "source": [
    "df.head()\n",
    "#Your code here"
   ]
  },
  {
   "cell_type": "code",
   "execution_count": 4,
   "metadata": {},
   "outputs": [
    {
     "data": {
      "text/plain": [
       "Student loan                   0.190067\n",
       "Credit card                    0.159000\n",
       "Consumer Loan                  0.157900\n",
       "Mortgage                       0.138867\n",
       "Bank account or service        0.138483\n",
       "Credit reporting               0.114400\n",
       "Checking or savings account    0.101283\n",
       "Name: Product, dtype: float64"
      ]
     },
     "execution_count": 4,
     "metadata": {},
     "output_type": "execute_result"
    }
   ],
   "source": [
    "df.Product.value_counts(normalize=True)"
   ]
  },
  {
   "cell_type": "markdown",
   "metadata": {},
   "source": [
    "## Preprocessing\n",
    "\n",
    "Before we build our neural network, we need to do several preprocessing steps. First, we will create word vector counts (a bag of words type representation) of our complaints text. Next, we will change the category labels to integers. Finally, we will perform our usual train-test split before building and training our neural network using Keras. With that, let's start munging our data!"
   ]
  },
  {
   "cell_type": "markdown",
   "metadata": {},
   "source": [
    "## One-hot encoding of the complaints\n",
    "\n",
    "Our first step again is to transform our textual data into a numerical representation. As we've started to see in some of our previous lessons on NLP, there are many ways to do this. Here, we'll use the `Tokenizer` method from the `preprocessing` module of the Keras package.   \n",
    "\n",
    "As with our previous work using NLTK, this will transform our text complaints into word vectors. (Note that the method of creating a vector is different from our previous work with NLTK; as you'll see, word order will be preserved as opposed to a bag of words representation. In the below code, we'll only keep the 2,000 most common words and use one-hot encoding.\n",
    "\n",
    "Note that the code block below takes advantage of the following package import from our first code cell above.  \n",
    "`from keras.preprocessing.text import Tokenizer`"
   ]
  },
  {
   "cell_type": "code",
   "execution_count": 5,
   "metadata": {},
   "outputs": [],
   "source": [
    "#As a quick preliminary, briefly review the docstring for the Keras.preprocessing.text.Tokenizer method:\n",
    "Tokenizer?"
   ]
  },
  {
   "cell_type": "code",
   "execution_count": 6,
   "metadata": {},
   "outputs": [
    {
     "name": "stdout",
     "output_type": "stream",
     "text": [
      "sequences type: <class 'list'>\n",
      "one_hot_results type: <class 'numpy.ndarray'>\n",
      "Found 50110 unique tokens.\n",
      "Dimensions of our coded results: (60000, 2000)\n"
     ]
    }
   ],
   "source": [
    "#Now onto the actual code recipe...\n",
    "complaints = df[\"Consumer complaint narrative\"] #Our raw text complaints\n",
    "\n",
    "tokenizer = Tokenizer(num_words=2000) #Initialize a tokenizer.\n",
    "\n",
    "tokenizer.fit_on_texts(complaints) #Fit it to the complaints\n",
    "\n",
    "sequences = tokenizer.texts_to_sequences(complaints) #Generate sequences\n",
    "print('sequences type:', type(sequences))\n",
    "\n",
    "one_hot_results= tokenizer.texts_to_matrix(complaints, mode='binary') #Similar to sequences, but returns a numpy array\n",
    "print('one_hot_results type:', type(one_hot_results))\n",
    "\n",
    "word_index = tokenizer.word_index #Useful if we wish to decode (more explanation below)\n",
    "\n",
    "print('Found %s unique tokens.' % len(word_index)) #Tokens are the number of unique words across the corpus\n",
    "\n",
    "\n",
    "print('Dimensions of our coded results:', np.shape(one_hot_results)) #Our coded data"
   ]
  },
  {
   "cell_type": "markdown",
   "metadata": {},
   "source": [
    "## Decoding our Word Vectors\n",
    "As a note, you can also decode these vectorized representations of the reviews. The `word_index` variable, defined above, stores the mapping from the label number to the actual word. Somewhat tediously, we can turn this dictionary inside out and map it back to our word vectors, giving us roughly the original complaint back. (As you'll see, the text won't be identical as we limited ourselves to 200 words.)"
   ]
  },
  {
   "cell_type": "markdown",
   "metadata": {},
   "source": [
    "## Python Review / Mini Challenge\n",
    "\n",
    "While a bit tangential to our main topic of interest, we need to reverse our current dictionary `word_index` which maps words from our corpus to integers. In decoding our one_hot_results, we will need to create a dictionary of these integers to the original words. Below, take the `word_index` dictionary object and change the orientation so that the values are keys and the keys values. In other words, you are transforming something of the form {A:1, B:2, C:3} to {1:A, 2:B, 3:C}"
   ]
  },
  {
   "cell_type": "code",
   "execution_count": 7,
   "metadata": {},
   "outputs": [],
   "source": [
    "#Your code here\n",
    "reverse_index = dict([(value, key) for (key, value) in word_index.items()])"
   ]
  },
  {
   "cell_type": "markdown",
   "metadata": {},
   "source": [
    "## Back to Decoding Our Word Vectors..."
   ]
  },
  {
   "cell_type": "code",
   "execution_count": 8,
   "metadata": {},
   "outputs": [
    {
     "name": "stdout",
     "output_type": "stream",
     "text": [
      "Original complaint text:\n",
      "I have already filed several complaints about AES/PHEAA. I was notified by a XXXX XXXX let @ XXXX, who pretended to be from your office, he said he was from CFPB. I found out this morning he is n't from your office, but is actually works at XXXX. \n",
      "\n",
      "This has wasted weeks of my time. They AES/PHEAA confirmed and admitted ( see attached transcript of XXXX, conversation at XXXX ( XXXX ) with XXXX that proves they verified the loans are not mine ) the student loans they had XXXX, and collected on, and reported negate credit reporting in my name are in fact, not mine. \n",
      "They conclued their investigation on XXXX admitting they made a mistake and have my name on soneone elses loans. I these XXXX loans total {$10000.00}, original amount. My XXXX loans I got was total {$3500.00}. We proved by providing AES/PHEAA, this with my original promissary notes I located recently, the XXXX of my college provided AES/PHEAA with their original shoeinf amounts of my XXXX loans which show different dates and amounts, the dates and amounts are not even close to matching these loans they have in my name, The original lender, XXXX XXXX Bank notifying AES/PHEAA, they never issued me a student loan, and original Loan Guarantor, XXXX, notifying AES/PHEAA, they never were guarantor of my loans. \n",
      "\n",
      "XXXX straight forward. But today, this person, XXXX XXXX, told me they know these loans are not mine, and they refuse to remove my name off these XXXX loan 's and correct their mistake, essentially forcing me to pay these loans off, bucause in XXXX they sold the loans to XXXX loans. \n",
      "\n",
      "This is absurd, first protruding to be this office, and then refusing to correct their mistake. \n",
      "\n",
      "Please for the love of XXXX will soneone from your office call me at XXXX, today. I am a XXXX vet and they are knowingly discriminating against me. \n",
      "Pretending to be you.\n",
      "\n",
      "\n",
      "\n",
      "Decoded review from Tokenizer:\n",
      "i have already filed several complaints about aes i was notified by a xxxx xxxx let xxxx who to be from your office he said he was from cfpb i found out this morning he is n't from your office but is actually works at xxxx this has weeks of my time they aes confirmed and admitted see attached of xxxx conversation at xxxx xxxx with xxxx that they verified the loans are not mine the student loans they had xxxx and on and reported credit reporting in my name are in fact not mine they their investigation on xxxx they made a mistake and have my name on loans i these xxxx loans total 10000 00 original amount my xxxx loans i got was total 00 we by providing aes this with my original notes i located recently the xxxx of my college provided aes with their original amounts of my xxxx loans which show different dates and amounts the dates and amounts are not even close to these loans they have in my name the original lender xxxx xxxx bank notifying aes they never issued me a student loan and original loan xxxx notifying aes they never were of my loans xxxx forward but today this person xxxx xxxx told me they know these loans are not mine and they refuse to remove my name off these xxxx loan 's and correct their mistake essentially me to pay these loans off in xxxx they sold the loans to xxxx loans this is first to be this office and then refusing to correct their mistake please for the of xxxx will from your office call me at xxxx today i am a xxxx and they are against me to be you\n"
     ]
    }
   ],
   "source": [
    "comment_idx_to_preview = 19\n",
    "print('Original complaint text:')\n",
    "print(complaints[comment_idx_to_preview])\n",
    "print('\\n\\n')\n",
    "\n",
    "#The reverse_index cell block above must be complete in order for this cell block to successively execute.\n",
    "decoded_review = ' '.join([reverse_index.get(i) for i in sequences[comment_idx_to_preview]])\n",
    "print('Decoded review from Tokenizer:')\n",
    "print(decoded_review)"
   ]
  },
  {
   "cell_type": "markdown",
   "metadata": {},
   "source": [
    "## Convert the Products to Numerical Categories\n",
    "\n",
    "On to step two of our preprocessing: converting our descriptive categories into integers."
   ]
  },
  {
   "cell_type": "code",
   "execution_count": 9,
   "metadata": {},
   "outputs": [
    {
     "name": "stdout",
     "output_type": "stream",
     "text": [
      "Original class labels:\n",
      "['Bank account or service', 'Checking or savings account', 'Consumer Loan', 'Credit card', 'Credit reporting', 'Mortgage', 'Student loan']\n",
      "\n",
      "\n",
      "New product labels:\n",
      "[6 6 6 ... 4 4 4]\n",
      "\n",
      "\n",
      "One hot labels; 7 binary columns, one for each of the categories.\n",
      "[[0. 0. 0. ... 0. 0. 1.]\n",
      " [0. 0. 0. ... 0. 0. 1.]\n",
      " [0. 0. 0. ... 0. 0. 1.]\n",
      " ...\n",
      " [0. 0. 0. ... 1. 0. 0.]\n",
      " [0. 0. 0. ... 1. 0. 0.]\n",
      " [0. 0. 0. ... 1. 0. 0.]]\n",
      "\n",
      "\n",
      "One hot labels shape:\n",
      "(60000, 7)\n"
     ]
    }
   ],
   "source": [
    "product = df[\"Product\"]\n",
    "\n",
    "le = preprocessing.LabelEncoder() #Initialize. le used as abbreviation fo label encoder\n",
    "le.fit(product)\n",
    "print(\"Original class labels:\")\n",
    "print(list(le.classes_))\n",
    "print('\\n')\n",
    "product_cat = le.transform(product)  \n",
    "#list(le.inverse_transform([0, 1, 3, 3, 0, 6, 4])) #If you wish to retrieve the original descriptive labels post production\n",
    "\n",
    "print('New product labels:')\n",
    "print(product_cat)\n",
    "print('\\n')\n",
    "\n",
    "\n",
    "print('One hot labels; 7 binary columns, one for each of the categories.') #Each row will be all zeros except for the category for that observation.\n",
    "product_onehot = to_categorical(product_cat)\n",
    "print(product_onehot)\n",
    "print('\\n')\n",
    "\n",
    "print('One hot labels shape:')\n",
    "print(np.shape(product_onehot))"
   ]
  },
  {
   "cell_type": "markdown",
   "metadata": {},
   "source": [
    "## Train - test split\n",
    "\n",
    "Now for our final preprocessing step: the usual train-test split."
   ]
  },
  {
   "cell_type": "code",
   "execution_count": 10,
   "metadata": {},
   "outputs": [
    {
     "name": "stdout",
     "output_type": "stream",
     "text": [
      "Test label shape: (1500, 7)\n",
      "Train label shape: (58500, 7)\n",
      "Test shape: (1500, 2000)\n",
      "Train shape: (58500, 2000)\n"
     ]
    }
   ],
   "source": [
    "import random\n",
    "random.seed(123)\n",
    "test_index = random.sample(range(1,10000), 1500)\n",
    "\n",
    "test = one_hot_results[test_index]\n",
    "train = np.delete(one_hot_results, test_index, 0)\n",
    "\n",
    "\n",
    "label_test = product_onehot[test_index]\n",
    "label_train = np.delete(product_onehot, test_index, 0)\n",
    "\n",
    "print(\"Test label shape:\", np.shape(label_test))\n",
    "print(\"Train label shape:\", np.shape(label_train))\n",
    "print(\"Test shape:\", np.shape(test))\n",
    "print(\"Train shape:\", np.shape(train))"
   ]
  },
  {
   "cell_type": "markdown",
   "metadata": {},
   "source": [
    "## Building the network"
   ]
  },
  {
   "cell_type": "markdown",
   "metadata": {},
   "source": [
    "Let's build a fully connected (Dense) layer network with relu activations in Keras. You can do this using: `Dense(16, activation='relu')`."
   ]
  },
  {
   "cell_type": "markdown",
   "metadata": {},
   "source": [
    "In this example, use 2 hidden with 50 units in the first layer and 25 in the second, both with a `relu` activation function. Because we are dealing with a multiclass problem (classifying the complaints into 7 ), we use a use a softmax classifier in order to output 7 class probabilities per case.  \n",
    "\n",
    "The previous imports that you'll use here are:  \n",
    "\n",
    "```from keras import models\n",
    "from keras import layers```"
   ]
  },
  {
   "cell_type": "code",
   "execution_count": 11,
   "metadata": {},
   "outputs": [
    {
     "name": "stdout",
     "output_type": "stream",
     "text": [
      "WARNING:tensorflow:From /Users/gabrielblatstein/anaconda3/lib/python3.7/site-packages/keras/backend/tensorflow_backend.py:66: The name tf.get_default_graph is deprecated. Please use tf.compat.v1.get_default_graph instead.\n",
      "\n",
      "WARNING:tensorflow:From /Users/gabrielblatstein/anaconda3/lib/python3.7/site-packages/keras/backend/tensorflow_backend.py:541: The name tf.placeholder is deprecated. Please use tf.compat.v1.placeholder instead.\n",
      "\n",
      "WARNING:tensorflow:From /Users/gabrielblatstein/anaconda3/lib/python3.7/site-packages/keras/backend/tensorflow_backend.py:4432: The name tf.random_uniform is deprecated. Please use tf.random.uniform instead.\n",
      "\n"
     ]
    }
   ],
   "source": [
    "from keras import models\n",
    "from keras import layers\n",
    "\n",
    "model= models.Sequential()\n",
    "\n",
    "model.add(layers.Dense(50, activation= 'relu', input_shape= (2000,)))\n",
    "model.add(layers.Dense(25, activation= 'relu'))\n",
    "model.add(layers.Dense(7, activation= 'softmax'))\n",
    "\n",
    "#Your code here; initialize a sequential model with 3 layers; \n",
    "#two hidden relu and the final classification output using softmax"
   ]
  },
  {
   "cell_type": "markdown",
   "metadata": {},
   "source": [
    "## Compiling the model and look at the results\n",
    "\n",
    "Now, compile the model! This time, use `'categorical_crossentropy'` as the loss function and stochastic gradient descent, `'SGD'` as the optimizer. As in the previous lesson, include the accuracy as a metric."
   ]
  },
  {
   "cell_type": "code",
   "execution_count": 13,
   "metadata": {},
   "outputs": [
    {
     "name": "stdout",
     "output_type": "stream",
     "text": [
      "WARNING:tensorflow:From /Users/gabrielblatstein/anaconda3/lib/python3.7/site-packages/keras/optimizers.py:793: The name tf.train.Optimizer is deprecated. Please use tf.compat.v1.train.Optimizer instead.\n",
      "\n",
      "WARNING:tensorflow:From /Users/gabrielblatstein/anaconda3/lib/python3.7/site-packages/keras/backend/tensorflow_backend.py:3576: The name tf.log is deprecated. Please use tf.math.log instead.\n",
      "\n"
     ]
    }
   ],
   "source": [
    "model.compile(optimizer= 'SGD',\n",
    "             loss= 'categorical_crossentropy',\n",
    "             metrics=['accuracy'])\n",
    "#Your code here"
   ]
  },
  {
   "cell_type": "markdown",
   "metadata": {},
   "source": [
    "## Training the model\n",
    "\n",
    "In the compiler, you'll be passing the optimizer (SGD = stochastic gradient descent), loss function, and metrics. Train the model for 120 epochs in mini-batches of 256 samples."
   ]
  },
  {
   "cell_type": "code",
   "execution_count": 14,
   "metadata": {},
   "outputs": [
    {
     "name": "stdout",
     "output_type": "stream",
     "text": [
      "WARNING:tensorflow:From /Users/gabrielblatstein/anaconda3/lib/python3.7/site-packages/tensorflow/python/ops/math_grad.py:1250: add_dispatch_support.<locals>.wrapper (from tensorflow.python.ops.array_ops) is deprecated and will be removed in a future version.\n",
      "Instructions for updating:\n",
      "Use tf.where in 2.0, which has the same broadcast rule as np.where\n",
      "WARNING:tensorflow:From /Users/gabrielblatstein/anaconda3/lib/python3.7/site-packages/keras/backend/tensorflow_backend.py:1033: The name tf.assign_add is deprecated. Please use tf.compat.v1.assign_add instead.\n",
      "\n",
      "Epoch 1/120\n",
      "58500/58500 [==============================] - 5s 79us/step - loss: 1.8797 - acc: 0.2412\n",
      "Epoch 2/120\n",
      "58500/58500 [==============================] - 2s 29us/step - loss: 1.6297 - acc: 0.4862\n",
      "Epoch 3/120\n",
      "58500/58500 [==============================] - 2s 29us/step - loss: 1.2531 - acc: 0.6246: 1s - loss:\n",
      "Epoch 4/120\n",
      "58500/58500 [==============================] - 2s 30us/step - loss: 0.9835 - acc: 0.6776\n",
      "Epoch 5/120\n",
      "58500/58500 [==============================] - 2s 32us/step - loss: 0.8409 - acc: 0.7073\n",
      "Epoch 6/120\n",
      "58500/58500 [==============================] - 2s 31us/step - loss: 0.7609 - acc: 0.7266\n",
      "Epoch 7/120\n",
      "58500/58500 [==============================] - 2s 31us/step - loss: 0.7104 - acc: 0.7397\n",
      "Epoch 8/120\n",
      "58500/58500 [==============================] - 2s 31us/step - loss: 0.6750 - acc: 0.7512\n",
      "Epoch 9/120\n",
      "58500/58500 [==============================] - 2s 30us/step - loss: 0.6480 - acc: 0.7594\n",
      "Epoch 10/120\n",
      "58500/58500 [==============================] - 2s 30us/step - loss: 0.6269 - acc: 0.7668\n",
      "Epoch 11/120\n",
      "58500/58500 [==============================] - 2s 30us/step - loss: 0.6090 - acc: 0.7735\n",
      "Epoch 12/120\n",
      "58500/58500 [==============================] - 2s 29us/step - loss: 0.5940 - acc: 0.7793\n",
      "Epoch 13/120\n",
      "58500/58500 [==============================] - 2s 30us/step - loss: 0.5808 - acc: 0.7853\n",
      "Epoch 14/120\n",
      "58500/58500 [==============================] - 2s 29us/step - loss: 0.5691 - acc: 0.7897\n",
      "Epoch 15/120\n",
      "58500/58500 [==============================] - 2s 29us/step - loss: 0.5587 - acc: 0.7942\n",
      "Epoch 16/120\n",
      "58500/58500 [==============================] - 2s 29us/step - loss: 0.5492 - acc: 0.7983\n",
      "Epoch 17/120\n",
      "58500/58500 [==============================] - 2s 30us/step - loss: 0.5402 - acc: 0.8016\n",
      "Epoch 18/120\n",
      "58500/58500 [==============================] - 2s 30us/step - loss: 0.5323 - acc: 0.8054\n",
      "Epoch 19/120\n",
      "58500/58500 [==============================] - 2s 34us/step - loss: 0.5246 - acc: 0.8084\n",
      "Epoch 20/120\n",
      "58500/58500 [==============================] - 2s 30us/step - loss: 0.5179 - acc: 0.8126\n",
      "Epoch 21/120\n",
      "58500/58500 [==============================] - 2s 29us/step - loss: 0.5114 - acc: 0.8140\n",
      "Epoch 22/120\n",
      "58500/58500 [==============================] - 2s 29us/step - loss: 0.5052 - acc: 0.8167: \n",
      "Epoch 23/120\n",
      "58500/58500 [==============================] - 2s 30us/step - loss: 0.4994 - acc: 0.8190\n",
      "Epoch 24/120\n",
      "58500/58500 [==============================] - 2s 29us/step - loss: 0.4940 - acc: 0.8203\n",
      "Epoch 25/120\n",
      "58500/58500 [==============================] - 2s 30us/step - loss: 0.4891 - acc: 0.8230\n",
      "Epoch 26/120\n",
      "58500/58500 [==============================] - 2s 29us/step - loss: 0.4843 - acc: 0.8244\n",
      "Epoch 27/120\n",
      "58500/58500 [==============================] - 2s 30us/step - loss: 0.4800 - acc: 0.8270\n",
      "Epoch 28/120\n",
      "58500/58500 [==============================] - 2s 30us/step - loss: 0.4757 - acc: 0.8279\n",
      "Epoch 29/120\n",
      "58500/58500 [==============================] - 2s 30us/step - loss: 0.4713 - acc: 0.8299\n",
      "Epoch 30/120\n",
      "58500/58500 [==============================] - 2s 30us/step - loss: 0.4675 - acc: 0.8317\n",
      "Epoch 31/120\n",
      "58500/58500 [==============================] - 2s 29us/step - loss: 0.4639 - acc: 0.8338\n",
      "Epoch 32/120\n",
      "58500/58500 [==============================] - 2s 30us/step - loss: 0.4602 - acc: 0.8350\n",
      "Epoch 33/120\n",
      "58500/58500 [==============================] - 2s 29us/step - loss: 0.4569 - acc: 0.8362\n",
      "Epoch 34/120\n",
      "58500/58500 [==============================] - 2s 29us/step - loss: 0.4535 - acc: 0.8369\n",
      "Epoch 35/120\n",
      "58500/58500 [==============================] - 2s 30us/step - loss: 0.4506 - acc: 0.8388\n",
      "Epoch 36/120\n",
      "58500/58500 [==============================] - 2s 29us/step - loss: 0.4477 - acc: 0.8391\n",
      "Epoch 37/120\n",
      "58500/58500 [==============================] - 2s 31us/step - loss: 0.4447 - acc: 0.8408\n",
      "Epoch 38/120\n",
      "58500/58500 [==============================] - 2s 31us/step - loss: 0.4420 - acc: 0.8419\n",
      "Epoch 39/120\n",
      "58500/58500 [==============================] - 2s 30us/step - loss: 0.4393 - acc: 0.8431\n",
      "Epoch 40/120\n",
      "58500/58500 [==============================] - 2s 30us/step - loss: 0.4366 - acc: 0.8446\n",
      "Epoch 41/120\n",
      "58500/58500 [==============================] - 2s 30us/step - loss: 0.4343 - acc: 0.8452\n",
      "Epoch 42/120\n",
      "58500/58500 [==============================] - 2s 30us/step - loss: 0.4320 - acc: 0.8462\n",
      "Epoch 43/120\n",
      "58500/58500 [==============================] - 2s 30us/step - loss: 0.4294 - acc: 0.8468\n",
      "Epoch 44/120\n",
      "58500/58500 [==============================] - 2s 31us/step - loss: 0.4271 - acc: 0.8475\n",
      "Epoch 45/120\n",
      "58500/58500 [==============================] - 2s 30us/step - loss: 0.4250 - acc: 0.8489\n",
      "Epoch 46/120\n",
      "58500/58500 [==============================] - 2s 32us/step - loss: 0.4228 - acc: 0.8492\n",
      "Epoch 47/120\n",
      "58500/58500 [==============================] - 2s 30us/step - loss: 0.4208 - acc: 0.8506\n",
      "Epoch 48/120\n",
      "58500/58500 [==============================] - 2s 30us/step - loss: 0.4188 - acc: 0.8508\n",
      "Epoch 49/120\n",
      "58500/58500 [==============================] - 2s 29us/step - loss: 0.4169 - acc: 0.8517\n",
      "Epoch 50/120\n",
      "58500/58500 [==============================] - 2s 29us/step - loss: 0.4148 - acc: 0.8526\n",
      "Epoch 51/120\n",
      "58500/58500 [==============================] - 2s 29us/step - loss: 0.4131 - acc: 0.8530: 1s - \n",
      "Epoch 52/120\n",
      "58500/58500 [==============================] - 2s 28us/step - loss: 0.4112 - acc: 0.8539\n",
      "Epoch 53/120\n",
      "58500/58500 [==============================] - 2s 29us/step - loss: 0.4094 - acc: 0.8551\n",
      "Epoch 54/120\n",
      "58500/58500 [==============================] - 2s 29us/step - loss: 0.4076 - acc: 0.8552\n",
      "Epoch 55/120\n",
      "58500/58500 [==============================] - 2s 29us/step - loss: 0.4057 - acc: 0.8561\n",
      "Epoch 56/120\n",
      "58500/58500 [==============================] - 2s 30us/step - loss: 0.4045 - acc: 0.8560\n",
      "Epoch 57/120\n",
      "58500/58500 [==============================] - 2s 29us/step - loss: 0.4026 - acc: 0.8568\n",
      "Epoch 58/120\n",
      "58500/58500 [==============================] - 2s 29us/step - loss: 0.4014 - acc: 0.8573: 1s - loss: 0\n",
      "Epoch 59/120\n",
      "58500/58500 [==============================] - 2s 29us/step - loss: 0.3999 - acc: 0.8581\n",
      "Epoch 60/120\n",
      "58500/58500 [==============================] - 2s 29us/step - loss: 0.3981 - acc: 0.8584\n",
      "Epoch 61/120\n",
      "58500/58500 [==============================] - 2s 29us/step - loss: 0.3963 - acc: 0.8586\n",
      "Epoch 62/120\n",
      "58500/58500 [==============================] - 2s 29us/step - loss: 0.3947 - acc: 0.8603\n",
      "Epoch 63/120\n",
      "58500/58500 [==============================] - 2s 29us/step - loss: 0.3937 - acc: 0.8601\n",
      "Epoch 64/120\n",
      "58500/58500 [==============================] - 2s 28us/step - loss: 0.3920 - acc: 0.8611\n",
      "Epoch 65/120\n",
      "58500/58500 [==============================] - 2s 29us/step - loss: 0.3908 - acc: 0.8613\n",
      "Epoch 66/120\n",
      "58500/58500 [==============================] - 2s 29us/step - loss: 0.3891 - acc: 0.8615: 0s - loss: 0.3873 - a\n",
      "Epoch 67/120\n",
      "58500/58500 [==============================] - 2s 29us/step - loss: 0.3881 - acc: 0.8622\n",
      "Epoch 68/120\n",
      "58500/58500 [==============================] - 2s 28us/step - loss: 0.3869 - acc: 0.8625\n",
      "Epoch 69/120\n",
      "58500/58500 [==============================] - 2s 31us/step - loss: 0.3853 - acc: 0.8632\n",
      "Epoch 70/120\n",
      "58500/58500 [==============================] - 2s 30us/step - loss: 0.3842 - acc: 0.8634\n",
      "Epoch 71/120\n",
      "58500/58500 [==============================] - 2s 29us/step - loss: 0.3829 - acc: 0.8641\n",
      "Epoch 72/120\n",
      "58500/58500 [==============================] - 2s 29us/step - loss: 0.3817 - acc: 0.8646\n",
      "Epoch 73/120\n",
      "58500/58500 [==============================] - 2s 29us/step - loss: 0.3806 - acc: 0.8652\n",
      "Epoch 74/120\n",
      "58500/58500 [==============================] - 2s 32us/step - loss: 0.3795 - acc: 0.8659\n",
      "Epoch 75/120\n"
     ]
    },
    {
     "name": "stdout",
     "output_type": "stream",
     "text": [
      "58500/58500 [==============================] - 2s 31us/step - loss: 0.3783 - acc: 0.8659\n",
      "Epoch 76/120\n",
      "58500/58500 [==============================] - 2s 30us/step - loss: 0.3766 - acc: 0.8664\n",
      "Epoch 77/120\n",
      "58500/58500 [==============================] - 2s 31us/step - loss: 0.3759 - acc: 0.8671\n",
      "Epoch 78/120\n",
      "58500/58500 [==============================] - 2s 31us/step - loss: 0.3745 - acc: 0.8683\n",
      "Epoch 79/120\n",
      "58500/58500 [==============================] - 2s 29us/step - loss: 0.3735 - acc: 0.8679\n",
      "Epoch 80/120\n",
      "58500/58500 [==============================] - 2s 28us/step - loss: 0.3720 - acc: 0.8679\n",
      "Epoch 81/120\n",
      "58500/58500 [==============================] - 2s 28us/step - loss: 0.3713 - acc: 0.8683\n",
      "Epoch 82/120\n",
      "58500/58500 [==============================] - 2s 28us/step - loss: 0.3700 - acc: 0.8688: 0s - loss: 0.36\n",
      "Epoch 83/120\n",
      "58500/58500 [==============================] - 2s 28us/step - loss: 0.3688 - acc: 0.8694\n",
      "Epoch 84/120\n",
      "58500/58500 [==============================] - 2s 29us/step - loss: 0.3680 - acc: 0.8698\n",
      "Epoch 85/120\n",
      "58500/58500 [==============================] - 2s 28us/step - loss: 0.3667 - acc: 0.8699\n",
      "Epoch 86/120\n",
      "58500/58500 [==============================] - 2s 31us/step - loss: 0.3659 - acc: 0.8701\n",
      "Epoch 87/120\n",
      "58500/58500 [==============================] - 2s 29us/step - loss: 0.3646 - acc: 0.8711\n",
      "Epoch 88/120\n",
      "58500/58500 [==============================] - 2s 28us/step - loss: 0.3638 - acc: 0.8710\n",
      "Epoch 89/120\n",
      "58500/58500 [==============================] - 2s 28us/step - loss: 0.3626 - acc: 0.8714\n",
      "Epoch 90/120\n",
      "58500/58500 [==============================] - 2s 29us/step - loss: 0.3619 - acc: 0.8717: 0s - loss: 0.3621 - acc: 0\n",
      "Epoch 91/120\n",
      "58500/58500 [==============================] - 2s 29us/step - loss: 0.3607 - acc: 0.8728\n",
      "Epoch 92/120\n",
      "58500/58500 [==============================] - 2s 29us/step - loss: 0.3597 - acc: 0.8727: 1s - \n",
      "Epoch 93/120\n",
      "58500/58500 [==============================] - 2s 28us/step - loss: 0.3586 - acc: 0.8734\n",
      "Epoch 94/120\n",
      "58500/58500 [==============================] - 2s 29us/step - loss: 0.3577 - acc: 0.8733\n",
      "Epoch 95/120\n",
      "58500/58500 [==============================] - 2s 28us/step - loss: 0.3566 - acc: 0.8734\n",
      "Epoch 96/120\n",
      "58500/58500 [==============================] - 2s 28us/step - loss: 0.3555 - acc: 0.8732\n",
      "Epoch 97/120\n",
      "58500/58500 [==============================] - 2s 29us/step - loss: 0.3544 - acc: 0.8746\n",
      "Epoch 98/120\n",
      "58500/58500 [==============================] - 2s 31us/step - loss: 0.3537 - acc: 0.8756\n",
      "Epoch 99/120\n",
      "58500/58500 [==============================] - 2s 29us/step - loss: 0.3527 - acc: 0.8754\n",
      "Epoch 100/120\n",
      "58500/58500 [==============================] - 2s 28us/step - loss: 0.3517 - acc: 0.8755\n",
      "Epoch 101/120\n",
      "58500/58500 [==============================] - 2s 29us/step - loss: 0.3508 - acc: 0.8761\n",
      "Epoch 102/120\n",
      "58500/58500 [==============================] - 2s 31us/step - loss: 0.3500 - acc: 0.8755\n",
      "Epoch 103/120\n",
      "58500/58500 [==============================] - 2s 30us/step - loss: 0.3488 - acc: 0.8764\n",
      "Epoch 104/120\n",
      "58500/58500 [==============================] - 2s 29us/step - loss: 0.3481 - acc: 0.8774: 1s - loss: \n",
      "Epoch 105/120\n",
      "58500/58500 [==============================] - 2s 28us/step - loss: 0.3471 - acc: 0.8776\n",
      "Epoch 106/120\n",
      "58500/58500 [==============================] - 2s 29us/step - loss: 0.3461 - acc: 0.8776\n",
      "Epoch 107/120\n",
      "58500/58500 [==============================] - 2s 29us/step - loss: 0.3451 - acc: 0.8788\n",
      "Epoch 108/120\n",
      "58500/58500 [==============================] - 2s 29us/step - loss: 0.3441 - acc: 0.8785\n",
      "Epoch 109/120\n",
      "58500/58500 [==============================] - 2s 29us/step - loss: 0.3436 - acc: 0.8782\n",
      "Epoch 110/120\n",
      "58500/58500 [==============================] - 2s 28us/step - loss: 0.3424 - acc: 0.8793\n",
      "Epoch 111/120\n",
      "58500/58500 [==============================] - 2s 30us/step - loss: 0.3415 - acc: 0.8794\n",
      "Epoch 112/120\n",
      "58500/58500 [==============================] - 2s 29us/step - loss: 0.3404 - acc: 0.8799\n",
      "Epoch 113/120\n",
      "58500/58500 [==============================] - 2s 29us/step - loss: 0.3395 - acc: 0.8803\n",
      "Epoch 114/120\n",
      "58500/58500 [==============================] - 2s 29us/step - loss: 0.3388 - acc: 0.8812\n",
      "Epoch 115/120\n",
      "58500/58500 [==============================] - 2s 29us/step - loss: 0.3379 - acc: 0.8800\n",
      "Epoch 116/120\n",
      "58500/58500 [==============================] - 2s 29us/step - loss: 0.3370 - acc: 0.8817\n",
      "Epoch 117/120\n",
      "58500/58500 [==============================] - 2s 29us/step - loss: 0.3359 - acc: 0.8817\n",
      "Epoch 118/120\n",
      "58500/58500 [==============================] - 2s 29us/step - loss: 0.3349 - acc: 0.8821: 0s - loss: 0.3330 - acc\n",
      "Epoch 119/120\n",
      "58500/58500 [==============================] - 2s 28us/step - loss: 0.3341 - acc: 0.8821: 1s - l\n",
      "Epoch 120/120\n",
      "58500/58500 [==============================] - 2s 29us/step - loss: 0.3330 - acc: 0.8830\n"
     ]
    }
   ],
   "source": [
    "history = model.fit(train, label_train, epochs= 120, batch_size= 256)\n",
    "#Your code here"
   ]
  },
  {
   "cell_type": "markdown",
   "metadata": {},
   "source": [
    "Recall that the dictionary `history` has two entries: the loss and the accuracy achieved using the training set."
   ]
  },
  {
   "cell_type": "code",
   "execution_count": 19,
   "metadata": {},
   "outputs": [
    {
     "data": {
      "text/plain": [
       "dict_keys(['loss', 'acc'])"
      ]
     },
     "execution_count": 19,
     "metadata": {},
     "output_type": "execute_result"
    }
   ],
   "source": [
    "history_dict = history.history\n",
    "history_dict.keys()"
   ]
  },
  {
   "cell_type": "markdown",
   "metadata": {},
   "source": [
    "## Plot the results\n",
    "\n",
    "As you might expect, we'll use our ```import matplotlib.pyplot as plt``` for graphing. Use the data stored in the history_dict above to plot the loss vs epochs and the accuracy vs epochs."
   ]
  },
  {
   "cell_type": "code",
   "execution_count": 21,
   "metadata": {},
   "outputs": [
    {
     "data": {
      "text/plain": [
       "Text(0, 0.5, 'Loss')"
      ]
     },
     "execution_count": 21,
     "metadata": {},
     "output_type": "execute_result"
    },
    {
     "data": {
      "image/png": "[encoded data removed]",
      "text/plain": [
       "<Figure size 432x288 with 1 Axes>"
      ]
     },
     "metadata": {
      "needs_background": "light"
     },
     "output_type": "display_data"
    }
   ],
   "source": [
    "loss_values = history_dict['loss']\n",
    "epochs= range(1, len(loss_values)+1)\n",
    "plt.plot(epochs, loss_values, 'g', label='Training Loss')\n",
    "\n",
    "plt.title('Training Loss')\n",
    "plt.xlabel('Epchs')\n",
    "plt.ylabel('Loss')\n",
    "#Your code here; plot the loss vs the number of epoch"
   ]
  },
  {
   "cell_type": "code",
   "execution_count": 23,
   "metadata": {},
   "outputs": [
    {
     "data": {
      "text/plain": [
       "[<matplotlib.lines.Line2D at 0x1a3de6e710>]"
      ]
     },
     "execution_count": 23,
     "metadata": {},
     "output_type": "execute_result"
    },
    {
     "data": {
      "image/png": "[encoded data removed]",
      "text/plain": [
       "<Figure size 432x288 with 1 Axes>"
      ]
     },
     "metadata": {
      "needs_background": "light"
     },
     "output_type": "display_data"
    }
   ],
   "source": [
    "acc_values= history_dict['acc']\n",
    "\n",
    "plt.plot(epochs, acc_values, 'r', label='Training Acc')\n",
    "\n",
    "#Your code here; plot the training accuracy vs the number of epochs"
   ]
  },
  {
   "cell_type": "markdown",
   "metadata": {},
   "source": [
    "It seems like we could just keep on going and accuracy would go up!"
   ]
  },
  {
   "cell_type": "markdown",
   "metadata": {},
   "source": [
    "## Make predictions\n",
    "\n",
    "Finally, it's time to output. Use the method discussed in the previous lesson to output (probability) predictions for the test set."
   ]
  },
  {
   "cell_type": "code",
   "execution_count": 24,
   "metadata": {},
   "outputs": [],
   "source": [
    "y_hat_test = model.predict(test)#Your code here; Output (probability) predictions for the test set."
   ]
  },
  {
   "cell_type": "markdown",
   "metadata": {},
   "source": [
    "## Evaluate Performance\n",
    "\n",
    "Finally, print the loss and accuracy for both the train and test sets of the final trained model."
   ]
  },
  {
   "cell_type": "code",
   "execution_count": 29,
   "metadata": {},
   "outputs": [
    {
     "name": "stdout",
     "output_type": "stream",
     "text": [
      "58500/58500 [==============================] - 2s 36us/step\n"
     ]
    },
    {
     "data": {
      "text/plain": [
       "[0.33180419123860505, 0.8810769230769231]"
      ]
     },
     "execution_count": 29,
     "metadata": {},
     "output_type": "execute_result"
    }
   ],
   "source": [
    "results_train= model.evaluate(train, label_train)\n",
    "results_train\n",
    "#Your code here; print the loss and accuracy for the training set."
   ]
  },
  {
   "cell_type": "code",
   "execution_count": 26,
   "metadata": {},
   "outputs": [
    {
     "name": "stdout",
     "output_type": "stream",
     "text": [
      "1500/1500 [==============================] - 0s 42us/step\n"
     ]
    },
    {
     "data": {
      "text/plain": [
       "[0.27238078047831854, 0.9246666668256124]"
      ]
     },
     "execution_count": 26,
     "metadata": {},
     "output_type": "execute_result"
    }
   ],
   "source": [
    "results_test = model.evaluate(test, label_test)\n",
    "results_test\n",
    "#Your code here; print the loss and accuracy for the test set."
   ]
  },
  {
   "cell_type": "markdown",
   "metadata": {},
   "source": [
    "We can see that the training set results are really good, but the test set results lag behind. In the next lab. We'll talk a little more about this in the next lecture, and will discuss how we can get better test set results as well!"
   ]
  },
  {
   "cell_type": "markdown",
   "metadata": {},
   "source": [
    "## Additional Resources"
   ]
  },
  {
   "cell_type": "markdown",
   "metadata": {},
   "source": [
    "https://github.com/susanli2016/Machine-Learning-with-Python/blob/master/Consumer_complaints.ipynb"
   ]
  },
  {
   "cell_type": "markdown",
   "metadata": {},
   "source": [
    "https://catalog.data.gov/dataset/consumer-complaint-database"
   ]
  },
  {
   "cell_type": "markdown",
   "metadata": {},
   "source": [
    "## Summary \n",
    "\n",
    "Congratulations! In this lab, you built a neural network with much less production time thanks to the tools provided by Keras! In upcoming lessons and labs we'll continue to investigate further ideas regarding how to tune and refine these models for increased accuracy and performance."
   ]
  }
 ],
 "metadata": {
  "kernelspec": {
   "display_name": "Python 3",
   "language": "python",
   "name": "python3"
  },
  "language_info": {
   "codemirror_mode": {
    "name": "ipython",
    "version": 3
   },
   "file_extension": ".py",
   "mimetype": "text/x-python",
   "name": "python",
   "nbconvert_exporter": "python",
   "pygments_lexer": "ipython3",
   "version": "3.7.3"
  }
 },
 "nbformat": 4,
 "nbformat_minor": 2
}
